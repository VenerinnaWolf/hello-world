{
 "cells": [
  {
   "cell_type": "markdown",
   "id": "86748732",
   "metadata": {},
   "source": [
    "Напишите программу вывода на экран трёх последовательно идущих чисел, каждое на отдельной строке. Первое число вводит пользователь, остальные числа вы должны сами вычислять в программе."
   ]
  },
  {
   "cell_type": "code",
   "execution_count": null,
   "id": "75283304",
   "metadata": {},
   "outputs": [],
   "source": [
    "print(a := int(input()), a+1, a+2, sep='\\n')  # решение для Python 3.8 и выше\n",
    "[print(i, i+1, i+2, sep='\\n') for i in [int(input())]]\n",
    "print(*[[i, i+1, i+2] for i in [int(input())]][0], sep='\\n')\n",
    "(lambda i: print(i, i+1, i+2, sep='\\n'))(int(input()))"
   ]
  },
  {
   "cell_type": "markdown",
   "id": "ec14b3a8",
   "metadata": {},
   "source": [
    "# Условный оператор if"
   ]
  },
  {
   "cell_type": "markdown",
   "id": "b0471367",
   "metadata": {},
   "source": [
    "Напишите программу, которая проверяет, что для заданного четырехзначного числа выполняется следующее соотношение: сумма первой и последней цифр равна разности второй и третьей цифр."
   ]
  },
  {
   "cell_type": "code",
   "execution_count": 1,
   "id": "aad5b3f0",
   "metadata": {},
   "outputs": [
    {
     "name": "stdout",
     "output_type": "stream",
     "text": [
      "НЕТ\n"
     ]
    },
    {
     "data": {
      "text/plain": [
       "[None]"
      ]
     },
     "execution_count": 1,
     "metadata": {},
     "output_type": "execute_result"
    }
   ],
   "source": [
    "[print('ДА' if int(a[0]) + int(a[3]) == int(a[1]) - int(a[2]) else 'НЕТ') for a in [input()]]"
   ]
  },
  {
   "cell_type": "code",
   "execution_count": 6,
   "id": "16e73503",
   "metadata": {},
   "outputs": [
    {
     "name": "stdout",
     "output_type": "stream",
     "text": [
      "ДА\n"
     ]
    },
    {
     "data": {
      "text/plain": [
       "[None]"
      ]
     },
     "execution_count": 6,
     "metadata": {},
     "output_type": "execute_result"
    }
   ],
   "source": [
    "[print('ДА' if a[0] + a[3] == a[1] - a[2] else 'НЕТ') for a in [list(map(int, input()))]]"
   ]
  },
  {
   "cell_type": "markdown",
   "id": "bda2bedc",
   "metadata": {},
   "source": [
    "Напишите программу, которая определяет, являются ли три заданных числа (в указанном порядке) последовательными членами арифметической прогрессии."
   ]
  },
  {
   "cell_type": "code",
   "execution_count": null,
   "id": "3b1dc08e",
   "metadata": {},
   "outputs": [],
   "source": [
    "[print('YES' if b - a == c - b else 'NO') for a, b, c in [[int(input()) for _ in range(3)]]]"
   ]
  },
  {
   "cell_type": "code",
   "execution_count": null,
   "id": "748ad57e",
   "metadata": {},
   "outputs": [],
   "source": [
    "(lambda a, b, c: print('YES' if b - a == c - b else 'NO'))(*(int(input()) for _ in range(3)))"
   ]
  },
  {
   "cell_type": "markdown",
   "id": "4037c856",
   "metadata": {},
   "source": [
    "Назовём число красивым, если оно является четырёхзначным и делится нацело на 7 или на 17.\n",
    "Напишите программу, определяющую, является ли введённое число красивым.  \n",
    "Программа должна вывести «YES» (без кавычек), если число является красивым, или «NO» (без кавычек) в противном случае."
   ]
  },
  {
   "cell_type": "code",
   "execution_count": null,
   "id": "3b063a74",
   "metadata": {},
   "outputs": [],
   "source": [
    "[print('YES' if len(a) == 4 and (int(a) % 7 == 0 or int(a) % 17 == 0) else 'NO') for a in [input()]]"
   ]
  },
  {
   "cell_type": "markdown",
   "id": "bce6418f",
   "metadata": {},
   "source": [
    "### Возрастная группа 👧🌶️\n",
    "Напишите программу, которая по введённому возрасту пользователя сообщает, к какой возрастной группе он относится:\n",
    "- до 13 (включительно) – детство;\n",
    "- от 14 до 24 (включительно) – молодость;\n",
    "- от 25 до 59 (включительно) – зрелость;\n",
    "- от 60 (включительно) – старость."
   ]
  },
  {
   "cell_type": "code",
   "execution_count": 17,
   "id": "a1a6475f",
   "metadata": {},
   "outputs": [
    {
     "name": "stdout",
     "output_type": "stream",
     "text": [
      "старость\n"
     ]
    }
   ],
   "source": [
    "ages = {13: 'детство', \n",
    "       24: 'молодость',\n",
    "       59: 'зрелость',\n",
    "       100000: 'старость'}\n",
    "\n",
    "age = int(input())\n",
    "\n",
    "for key, val in ages.items():\n",
    "    if age <= key:\n",
    "        print(val)\n",
    "        break"
   ]
  },
  {
   "cell_type": "markdown",
   "id": "ccef0b36",
   "metadata": {},
   "source": [
    "### Сумма положительных\n",
    "Напишите программу, которая считывает три числа и подсчитывает сумму только положительных чисел.  \n",
    "> Это решение мне прям понравилось"
   ]
  },
  {
   "cell_type": "code",
   "execution_count": 18,
   "id": "c4e8be08",
   "metadata": {},
   "outputs": [
    {
     "name": "stdout",
     "output_type": "stream",
     "text": [
      "3\n"
     ]
    }
   ],
   "source": [
    "print(sum(max(int(input()), 0) for _ in range(3)))"
   ]
  },
  {
   "cell_type": "markdown",
   "id": "41d464db",
   "metadata": {},
   "source": [
    "### Принадлежность 3\n",
    "Напишите программу, которая принимает целое число x и определяет, принадлежит ли данное число указанным промежуткам `(-30, -2] or (7, 25]`"
   ]
  },
  {
   "cell_type": "code",
   "execution_count": 19,
   "id": "811fdc5b",
   "metadata": {},
   "outputs": [
    {
     "name": "stdout",
     "output_type": "stream",
     "text": [
      "Принадлежит\n"
     ]
    }
   ],
   "source": [
    "print('Принадлежит' if -30 < (a := int(input())) <= 2 or 7 < a <= 25 else 'Не принадлежит')"
   ]
  },
  {
   "cell_type": "markdown",
   "id": "28f3e438",
   "metadata": {},
   "source": [
    "### Самописный калькулятор 🌶️\n",
    "Напишите программу, которая считывает с клавиатуры два целых числа и строку. Если эта строка является обозначением одной из четырёх математических операций (+, -, *, /), то выведите результат применения этой операции к введённым ранее числам, в противном случае выведите «Неверная операция» (без кавычек). Если пользователь захочет поделить на ноль, выведите текст «На ноль делить нельзя!» (без кавычек)."
   ]
  },
  {
   "cell_type": "code",
   "execution_count": 1,
   "id": "5dc8b2e3",
   "metadata": {},
   "outputs": [
    {
     "name": "stdout",
     "output_type": "stream",
     "text": [
      "253\n"
     ]
    }
   ],
   "source": [
    "a, b, op = [input() for _ in range(3)]\n",
    "\n",
    "try:\n",
    "    print(eval(a + op + b))\n",
    "except ZeroDivisionError:\n",
    "    print('На ноль делить нельзя!')\n",
    "except ValueError:\n",
    "    print('Неверная операция')"
   ]
  },
  {
   "cell_type": "markdown",
   "id": "0c5d0d98",
   "metadata": {},
   "source": [
    "Красный, синий и желтый называются основными цветами, потому что их нельзя получить путем смешения других цветов. При смешивании двух основных цветов получается вторичный цвет:\n",
    "- если смешать красный и синий, то получится фиолетовый;\n",
    "- если смешать красный и желтый, то получится оранжевый;\n",
    "- если смешать синий и желтый, то получится зеленый.  \n",
    "\n",
    "\n",
    "Напишите программу, которая считывает названия двух основных цветов для смешивания. Если пользователь вводит что-нибудь помимо названий «красный», «синий» или «желтый», то программа должна вывести сообщение об ошибке. В противном случае программа должна вывести название вторичного цвета, который получится в результате.\n",
    "\n",
    "Формат входных данных:  \n",
    "На вход программе подаются две строки, каждая на отдельной строке.\n",
    "\n",
    "Формат выходных данных:  \n",
    "Программа должна вывести полученный цвет смешения либо сообщение «ошибка цвета» (без кавычек), если введён был не цвет.\n",
    "\n",
    "Примечание 1. Если смешать красный и красный, то получится красный и т.д."
   ]
  },
  {
   "cell_type": "code",
   "execution_count": null,
   "id": "b95d9a23",
   "metadata": {},
   "outputs": [],
   "source": [
    "color1, color2 = input(), input()\n",
    "\n",
    "if color1 == 'красный':\n",
    "    if color2 == 'красный':\n",
    "        print('красный')\n",
    "    elif color2 == 'синий':\n",
    "        print('фиолетовый')\n",
    "    elif color2 == 'желтый':\n",
    "        print('оранжевый')\n",
    "    else:\n",
    "        print('ошибка цвета')\n",
    "elif color1 == 'синий':\n",
    "    if color2 == 'красный':\n",
    "        print('фиолетовый')\n",
    "    elif color2 == 'синий':\n",
    "        print('синий')\n",
    "    elif color2 == 'желтый':\n",
    "        print('зеленый')\n",
    "    else:\n",
    "        print('ошибка цвета')\n",
    "elif color1 == 'желтый':\n",
    "    if color2 == 'красный':\n",
    "        print('оранжевый')\n",
    "    elif color2 == 'синий':\n",
    "        print('зеленый')\n",
    "    elif color2 == 'желтый':\n",
    "        print('желтый')\n",
    "    else:\n",
    "        print('ошибка цвета')\n",
    "else:\n",
    "    print('ошибка цвета')   "
   ]
  },
  {
   "cell_type": "code",
   "execution_count": null,
   "id": "f7963896",
   "metadata": {},
   "outputs": [],
   "source": [
    "color1, color2 = input(), input()\n",
    "\n",
    "if color1 in ('красный', 'желтый', 'синий') and color2 in ('красный', 'желтый', 'синий'):\n",
    "    if color1 == color2:\n",
    "        print(color1)\n",
    "    elif color1 == 'красный' and color2 == 'синий' or color2 == 'красный' and color1 == 'синий':\n",
    "        print('фиолетовый')\n",
    "    elif color1 == 'красный' and color2 == 'желтый' or color2 == 'красный' and color1 == 'желтый':\n",
    "        print('оранжевый')\n",
    "    elif color1 == 'синий' and color2 == 'желтый' or color2 == 'синий' and color1 == 'желтый':\n",
    "        print('зеленый')\n",
    "else:\n",
    "    print('ошибка цвета')   "
   ]
  },
  {
   "cell_type": "markdown",
   "id": "39e0e16e",
   "metadata": {},
   "source": [
    "На колесе рулетки карманы пронумерованы от 0 до 36. Ниже приведены цвета карманов: \n",
    "\n",
    "- карман 0 – зеленый;\n",
    "- для карманов с 1 по 10 карманы с нечётным номером имеют красный цвет, карманы с чётным номером – черный;\n",
    "- для карманов с 11 по 18 карманы с нечётным номером имеют черный цвет, карманы с чётным номером – красный;\n",
    "- для карманов с 19 по 28 карманы с нечётным номером имеют красный цвет, карманы с чётным номером – черный;\n",
    "- для карманов с 29 по 36 карманы с нечётным номером имеют черный цвет, карманы с чётным номером – красный.\n",
    "\n",
    "Напишите программу, которая считывает номер кармана и показывает, является ли этот карман зеленым, красным или черным. Программа должна вывести сообщение об ошибке, если пользователь вводит число, которое лежит вне диапазона от 0 до 36.\n",
    "\n",
    "Формат входных данных  \n",
    "На вход программе подаётся одно целое число.\n",
    "\n",
    "Формат выходных данных  \n",
    "Программа должна вывести цвет кармана либо сообщение «ошибка ввода» (без кавычек), если введённое число лежит вне диапазона от 0 до 36."
   ]
  },
  {
   "cell_type": "code",
   "execution_count": 6,
   "id": "6a7e9e7d",
   "metadata": {},
   "outputs": [
    {
     "name": "stdout",
     "output_type": "stream",
     "text": [
      "ошибка ввода\n"
     ]
    }
   ],
   "source": [
    "a = int(input())\n",
    "\n",
    "if a < 0 or a > 36:\n",
    "    print('ошибка ввода')\n",
    "elif a == 0:\n",
    "    print('зеленый')\n",
    "elif ((1 <= a <= 10 or 19 <= a <= 28) and a % 2 == 0) or ((11 <= a <= 18 or 29 <= a <= 36) and a % 2 == 1):\n",
    "    print('черный')\n",
    "else:\n",
    "    print('красный')"
   ]
  },
  {
   "cell_type": "markdown",
   "id": "d191b585",
   "metadata": {},
   "source": [
    "На числовой прямой даны два отрезка: [a1, b1] и [a2, b2]. Напишите программу, которая находит их пересечение.\n",
    "\n",
    "Пересечением двух отрезков может быть:\n",
    "- отрезок\n",
    "- точка\n",
    "- пустое множество  \n",
    "\n",
    "Формат входных данных  \n",
    "На вход программе подаются четыре целых числа a1, b1, a2, b2. Гарантируется, что a1 < b1, a2 < b2\n",
    "\n",
    "Формат выходных данных  \n",
    "Программа должна вывести на экран границы отрезка, являющегося пересечением, либо общую точку, либо текст «пустое множество» (без кавычек)."
   ]
  },
  {
   "cell_type": "code",
   "execution_count": null,
   "id": "d6c79ac3",
   "metadata": {},
   "outputs": [],
   "source": [
    "a1, b1, a2, b2 = [int(input()) for _ in range(4)]\n",
    "\n",
    "if a2 < a1:\n",
    "    a1, b1, a2, b2 = a2, b2, a1, b1\n",
    "\n",
    "if b1 < a2:\n",
    "    print('пустое множество')\n",
    "elif b1 == a2:\n",
    "    print(b1)\n",
    "elif b1 < b2:\n",
    "    print(a2, b1)\n",
    "else:\n",
    "    print(a2, b2)\n"
   ]
  },
  {
   "cell_type": "markdown",
   "id": "88bd3c62",
   "metadata": {},
   "source": [
    "## Экзамен"
   ]
  },
  {
   "cell_type": "markdown",
   "id": "a7774d0b",
   "metadata": {},
   "source": [
    "Напишите программу, которая определяет, оканчивается ли год с данным номером на два нуля. Если год оканчивается, то выведите «YES» (без кавычек), иначе выведите «NO» (без кавычек)."
   ]
  },
  {
   "cell_type": "code",
   "execution_count": 6,
   "id": "0213ac22",
   "metadata": {},
   "outputs": [
    {
     "name": "stdout",
     "output_type": "stream",
     "text": [
      "YES\n"
     ]
    }
   ],
   "source": [
    "print('YES' if input()[-2:] == '00' else 'NO')"
   ]
  },
  {
   "cell_type": "markdown",
   "id": "f1d1b074",
   "metadata": {},
   "source": [
    "### Шахматная доска\n",
    "Заданы две клетки шахматной доски. Напишите программу, которая определяет, имеют ли указанные клетки один цвет или нет. Если они покрашены в один цвет, то выведите слово «YES» (без кавычек), а если в разные цвета, то «NO» (без кавычек)."
   ]
  },
  {
   "cell_type": "code",
   "execution_count": null,
   "id": "6dc11892",
   "metadata": {},
   "outputs": [],
   "source": [
    "print('YES' if sum([int(input()) for _ in range(4)]) % 2 == 0 else 'NO')"
   ]
  },
  {
   "cell_type": "markdown",
   "id": "d38758ac",
   "metadata": {},
   "source": [
    "### Римские цифры\n",
    "Напишите программу, которая считывает целое число и выводит соответствующую ему римскую цифру. Если число находится вне диапазона [1; 10], то программа должна вывести текст «ошибка» (без кавычек)."
   ]
  },
  {
   "cell_type": "code",
   "execution_count": 12,
   "id": "af8b6495",
   "metadata": {},
   "outputs": [
    {
     "name": "stdout",
     "output_type": "stream",
     "text": [
      "ошибка\n"
     ]
    }
   ],
   "source": [
    "roman = ['I', 'II', 'III', 'IV', 'V', 'VI', 'VII', 'VIII', 'IX', 'X']\n",
    "print('ошибка' if not 1 <= (i := int(input())) <= 10 else roman[i - 1])"
   ]
  },
  {
   "cell_type": "markdown",
   "id": "dd5308e7",
   "metadata": {},
   "source": [
    "### Ход слона \n",
    "Даны две различные клетки шахматной доски. Напишите программу, которая определяет, может ли слон попасть с первой клетки на вторую одним ходом. Программа получает на вход четыре числа от 1 до 8 каждое, задающие номер столбца и номер строки сначала для первой клетки, потом для второй клетки. Программа должна вывести «YES», если из первой клетки ходом слона можно попасть во вторую, или «NO» в противном случае."
   ]
  },
  {
   "cell_type": "code",
   "execution_count": null,
   "id": "69a376df",
   "metadata": {},
   "outputs": [],
   "source": [
    "[print('YES' if abs(a - c) == abs(b - d) else 'NO') for a, b, c, d in [[int(input()) for _ in range(4)]]]"
   ]
  },
  {
   "cell_type": "markdown",
   "id": "67a35544",
   "metadata": {},
   "source": [
    "### Ход коня\n",
    "Даны две различные клетки шахматной доски. Напишите программу, которая определяет, может ли конь попасть с первой клетки на вторую одним ходом. Программа получает на вход четыре числа от 1 до 8 каждое, задающие номер столбца и номер строки сначала для первой клетки, потом для второй клетки. Программа должна вывести «YES», если из первой клетки ходом коня можно попасть во вторую, или «NO» в противном случае."
   ]
  },
  {
   "cell_type": "code",
   "execution_count": null,
   "id": "6ba542e7",
   "metadata": {},
   "outputs": [],
   "source": [
    "[print('YES' if (abs(a - c) == 1 and abs(b - d) == 2) or (abs(a - c) == 2 and abs(b - d) == 1) else 'NO') for a, b, c, d in [[int(input()) for _ in range(4)]]]"
   ]
  },
  {
   "cell_type": "markdown",
   "id": "bb6cfb93",
   "metadata": {},
   "source": [
    "### Ход ферзя\n",
    "Даны две различные клетки шахматной доски. Напишите программу, которая определяет, может ли ферзь попасть с первой клетки на вторую одним ходом. Программа получает на вход четыре числа от 1 до 8 каждое, задающие номер столбца и номер строки сначала для первой клетки, потом для второй клетки. Программа должна вывести «YES», если из первой клетки ходом ферзя можно попасть во вторую, или «NO» в противном случае."
   ]
  },
  {
   "cell_type": "code",
   "execution_count": null,
   "id": "99bd1d44",
   "metadata": {},
   "outputs": [],
   "source": [
    "[print('YES' if abs(a - c) == abs(b - d) or a == c or b == d else 'NO') for a, b, c, d in [[int(input()) for _ in range(4)]]]"
   ]
  },
  {
   "cell_type": "markdown",
   "id": "2b61a255",
   "metadata": {},
   "source": [
    "# Типы данных"
   ]
  },
  {
   "cell_type": "markdown",
   "id": "2f9498e8",
   "metadata": {},
   "source": [
    "### Площадь треугольника 📐\n",
    "Напишите программу, которая считывает длины двух катетов в прямоугольном треугольнике и выводит его площадь."
   ]
  },
  {
   "cell_type": "code",
   "execution_count": null,
   "id": "930f81be",
   "metadata": {},
   "outputs": [],
   "source": [
    "print(float(input()) * float(input()) / 2)"
   ]
  },
  {
   "cell_type": "markdown",
   "id": "2583ff9f",
   "metadata": {},
   "source": [
    "### Две старушки 👵\n",
    "Две старушки идут навстречу друг другу с постоянными скоростями V1 и V2 км/ч. Определите, через какое время (в часах) старушки встретятся, если расстояние между ними равно S км."
   ]
  },
  {
   "cell_type": "code",
   "execution_count": null,
   "id": "a1c30a63",
   "metadata": {},
   "outputs": [],
   "source": [
    "print(float(input()) / (float(input()) + float(input())))"
   ]
  },
  {
   "cell_type": "markdown",
   "id": "3787749b",
   "metadata": {},
   "source": [
    "### Интересное число 🤔\n",
    "Назовём число интересным, если в нём разность максимальной и минимальной цифры равняется средней по величине цифре. Напишите программу, которая определяет, интересное число или нет. Если число интересное, следует вывести текст «Число интересное» (без кавычек), иначе – «Число неинтересное» (без кавычек)."
   ]
  },
  {
   "cell_type": "code",
   "execution_count": null,
   "id": "0130ba3a",
   "metadata": {},
   "outputs": [],
   "source": [
    "[print('Число', 'интересное' if 2 * max(a) == sum(a) else 'неинтересное') for a in [[int(x) for x in input()]]]"
   ]
  },
  {
   "cell_type": "markdown",
   "id": "d7643c2b",
   "metadata": {},
   "source": [
    "### Три города 🏙️\n",
    "Даны названия трёх городов. Напишите программу, которая определяет самое короткое и самое длинное название города."
   ]
  },
  {
   "cell_type": "code",
   "execution_count": 7,
   "id": "98d54a97",
   "metadata": {},
   "outputs": [
    {
     "name": "stdout",
     "output_type": "stream",
     "text": [
      "sd\n",
      "gsdfasfasd\n"
     ]
    },
    {
     "data": {
      "text/plain": [
       "[None, None]"
      ]
     },
     "execution_count": 7,
     "metadata": {},
     "output_type": "execute_result"
    }
   ],
   "source": [
    "[print(a) for a in (sorted([input() for _ in range(3)], key=len)[::2])]"
   ]
  },
  {
   "cell_type": "code",
   "execution_count": 8,
   "id": "6e074416",
   "metadata": {},
   "outputs": [
    {
     "name": "stdout",
     "output_type": "stream",
     "text": [
      "as\n",
      "dasfasdfasfas\n"
     ]
    }
   ],
   "source": [
    "print(*(sorted([input() for _ in range(3)], key=len)[::2]), sep='\\n')"
   ]
  },
  {
   "cell_type": "markdown",
   "id": "62cffef3",
   "metadata": {},
   "source": [
    "### Арифметические строки 🌶️\n",
    "Вводятся 3 строки в случайном порядке. Напишите программу, которая выясняет, можно ли из длин этих строк построить арифметическую прогрессию."
   ]
  },
  {
   "cell_type": "code",
   "execution_count": 11,
   "id": "6bc24c1c",
   "metadata": {},
   "outputs": [
    {
     "name": "stdout",
     "output_type": "stream",
     "text": [
      "NO\n"
     ]
    },
    {
     "data": {
      "text/plain": [
       "[None]"
      ]
     },
     "execution_count": 11,
     "metadata": {},
     "output_type": "execute_result"
    }
   ],
   "source": [
    "[print('YES' if l[0] + l[2] == 2 * l[1] else 'NO') for l in [sorted(len(input()) for _ in range(3))]]"
   ]
  },
  {
   "cell_type": "markdown",
   "id": "c59cd95a",
   "metadata": {},
   "source": [
    "### Квадратное уравнение 🌶️🌶️\n",
    "Даны три действительных числа a, b, c. Напишите программу, которая находит действительные корни квадратного уравнения.  \n",
    "Если уравнение имеет один корень, то нужно вывести его, а если уравнение имеет два корня, то следует вывести их в порядке возрастания, каждый на отдельной строке. При этом если уравнение не имеет действительных корней, то программа должна вывести текст «Нет корней» (без кавычек)."
   ]
  },
  {
   "cell_type": "markdown",
   "id": "31e61859",
   "metadata": {},
   "source": [
    "Стародедовское решение:"
   ]
  },
  {
   "cell_type": "code",
   "execution_count": null,
   "id": "e9723ea8",
   "metadata": {},
   "outputs": [
    {
     "name": "stdout",
     "output_type": "stream",
     "text": [
      "-1.0\n"
     ]
    }
   ],
   "source": [
    "# Стародедовское решение\n",
    "\n",
    "a, b, c = [float(input()) for _ in range(3)]\n",
    "d = b**2 - 4 * a * c\n",
    "if d < 0:\n",
    "    print('Нет корней')\n",
    "elif d == 0:\n",
    "    print(-b / (2 * a))\n",
    "else:\n",
    "    x1 = (-b + d**0.5) / (2 * a)\n",
    "    x2 = (-b - d**0.5) / (2 * a)\n",
    "    print(min(x1, x2))\n",
    "    print(max(x1, x2))"
   ]
  },
  {
   "cell_type": "markdown",
   "id": "30c400d7",
   "metadata": {},
   "source": [
    "Пытаемся решить в одну строчку:"
   ]
  },
  {
   "cell_type": "code",
   "execution_count": null,
   "id": "fd7b3251",
   "metadata": {},
   "outputs": [],
   "source": [
    "# Тут ошипка из-за распаковки, плюс sep разделяет 'Нет корней' по буквам, поэтому буду использовать '\\n'.join\n",
    "# [print('Нет корней' if d < 0 else *sorted({(-b + d**0.5) / (2 * a), (-b - d**0.5) / (2 * a)}), sep='\\n') for d in [b**2 - 4 * a * c for a, b, c in [[float(input()) for _ in range(3)]]]]"
   ]
  },
  {
   "cell_type": "code",
   "execution_count": null,
   "id": "6ad0c23c",
   "metadata": {},
   "outputs": [
    {
     "name": "stdout",
     "output_type": "stream",
     "text": [
      "1.0 2.0 3.0 [0.0] -8.0\n"
     ]
    },
    {
     "data": {
      "text/plain": [
       "[None]"
      ]
     },
     "execution_count": 63,
     "metadata": {},
     "output_type": "execute_result"
    }
   ],
   "source": [
    "# Этот вариант почему-то выдает разный результат для d и для b**2 - 4 * a * c, значит d считается как-то неправильно\n",
    "[print(a, b, c, d, b**2 - 4 * a * c) for a, b, c, d in [[*[float(input()) for _ in range(3)], b**2 - 4 * a * c]]]"
   ]
  },
  {
   "cell_type": "code",
   "execution_count": 55,
   "id": "50beede8",
   "metadata": {},
   "outputs": [
    {
     "name": "stdout",
     "output_type": "stream",
     "text": [
      "1.0 2.0 3.0 -8.0 -8.0\n"
     ]
    },
    {
     "data": {
      "text/plain": [
       "[None]"
      ]
     },
     "execution_count": 55,
     "metadata": {},
     "output_type": "execute_result"
    }
   ],
   "source": [
    "# Этот вариант выдает правильные результаты, но мы дважды передаем дальше a, b, c, это не очень эффективно. Пока не знаю, как оптимизировать\n",
    "[print(a, b, c, d, b**2 - 4 * a * c) for a, b, c, d in [[a, b, c, b**2 - 4 * a * c] for a, b, c in [[float(input()) for _ in range(3)]]]]"
   ]
  },
  {
   "cell_type": "markdown",
   "id": "1b1da619",
   "metadata": {},
   "source": [
    "Итоговый ответ"
   ]
  },
  {
   "cell_type": "code",
   "execution_count": 59,
   "id": "c15e3d94",
   "metadata": {},
   "outputs": [
    {
     "name": "stdout",
     "output_type": "stream",
     "text": [
      "Нет корней\n"
     ]
    },
    {
     "data": {
      "text/plain": [
       "[None]"
      ]
     },
     "execution_count": 59,
     "metadata": {},
     "output_type": "execute_result"
    }
   ],
   "source": [
    "[print(('\\n'.join(str(x) for x in sorted({(-b + d**0.5) / (2 * a), (-b - d**0.5) / (2 * a)}))) if d >= 0 else 'Нет корней') for a, b, c, d in [[a, b, c, b**2 - 4 * a * c] for a, b, c in [[float(input()) for _ in range(3)]]]]"
   ]
  },
  {
   "cell_type": "markdown",
   "id": "c738745f",
   "metadata": {},
   "source": [
    "# Цикл for"
   ]
  },
  {
   "cell_type": "markdown",
   "id": "d5e3716f",
   "metadata": {},
   "source": [
    "### Повторяй за мной 1\n",
    "Дано предложение и количество раз, сколько его надо повторить. Напишите программу, которая повторяет данное предложение нужное количество раз.  \n",
    "\n",
    "Формат входных данных  \n",
    "В первой строке подаётся текстовое предложение, во второй – количество повторений."
   ]
  },
  {
   "cell_type": "code",
   "execution_count": null,
   "id": "e20de530",
   "metadata": {},
   "outputs": [],
   "source": [
    "[[print(a) for b in range(int(input()))] for a in [input()]]"
   ]
  },
  {
   "cell_type": "code",
   "execution_count": null,
   "id": "19e6cd66",
   "metadata": {},
   "outputs": [],
   "source": [
    "print((input()+'\\n') * int(input()))"
   ]
  },
  {
   "cell_type": "markdown",
   "id": "3edc978d",
   "metadata": {},
   "source": [
    "### Популяция 🦠\n",
    "На вход программе подаются три натуральных числа m,p,n:\n",
    "- m: стартовое количество организмов;\n",
    "- p: среднесуточное увеличение в %;\n",
    "- n: количество дней для размножения.  \n",
    "\n",
    "Напишите программу, которая предсказывает размер популяции организмов с 1-го по n-й день (включительно). Программа должна выводить номер дня, а затем через пробел размер популяции в этот день.  \n",
    "\n",
    "Формат входных данных\n",
    "На вход программе подаются три натуральных числа (каждое на отдельной строке): m,p,n."
   ]
  },
  {
   "cell_type": "code",
   "execution_count": null,
   "id": "a8f6c90a",
   "metadata": {},
   "outputs": [],
   "source": [
    "m, p, n = [int(input()) for _ in range(3)]\n",
    "cur = m\n",
    "\n",
    "for i in range(n):\n",
    "    print(i+1, cur)\n",
    "    cur = cur + cur * p/100"
   ]
  },
  {
   "cell_type": "code",
   "execution_count": null,
   "id": "58ad9233",
   "metadata": {},
   "outputs": [
    {
     "name": "stdout",
     "output_type": "stream",
     "text": [
      "1 1.0\n",
      "2 1.02\n",
      "3 1.0404\n"
     ]
    },
    {
     "data": {
      "text/plain": [
       "[[None, None, None]]"
      ]
     },
     "execution_count": 3,
     "metadata": {},
     "output_type": "execute_result"
    }
   ],
   "source": [
    "[[print(i+1, m * (1 + p / 100)**i) for i in range(n)] for m, p, n in [[int(input()) for _ in range(3)]]]"
   ]
  },
  {
   "cell_type": "markdown",
   "id": "74fee5b6",
   "metadata": {},
   "source": [
    "### Последовательность чисел 1\n",
    "Даны два целых числа m и n (m≤n). Напишите программу, которая выводит все целые числа от m до n включительно."
   ]
  },
  {
   "cell_type": "code",
   "execution_count": null,
   "id": "78c28fa4",
   "metadata": {},
   "outputs": [],
   "source": [
    "print(*range(int(input()), int(input())+1), sep='\\n')"
   ]
  },
  {
   "cell_type": "markdown",
   "id": "7bca13ce",
   "metadata": {},
   "source": [
    "### Последовательность чисел 2 🌶️\n",
    "Даны два целых числа m и n. Напишите программу, которая выводит все целые числа от m до n включительно в порядке возрастания, если m < n, или в порядке убывания в противном случае."
   ]
  },
  {
   "cell_type": "code",
   "execution_count": null,
   "id": "006b70d5",
   "metadata": {},
   "outputs": [],
   "source": [
    "# Прикольное решение, но не работает если n=m из-за деления на 0\n",
    "[print(*range(m, n + (n-m)//abs(n-m), (n-m)//abs(n-m)), sep='\\n') for m, n in [[int(input()), int(input())]]]\n",
    "\n",
    "# Из комментов увидела вариант, как сделать переменную равную 1 или -1 без деления: k = 1 - 2 * (m > n)"
   ]
  },
  {
   "cell_type": "code",
   "execution_count": null,
   "id": "47cfc779",
   "metadata": {},
   "outputs": [
    {
     "name": "stdout",
     "output_type": "stream",
     "text": [
      "5\n",
      "4\n",
      "3\n",
      "2\n",
      "1\n"
     ]
    },
    {
     "data": {
      "text/plain": [
       "[None]"
      ]
     },
     "execution_count": 11,
     "metadata": {},
     "output_type": "execute_result"
    }
   ],
   "source": [
    "[print(*(range(m, n + 1) if m < n else (range(m, n - 1, -1))), sep='\\n') for m, n in [[int(input()), int(input())]]]"
   ]
  },
  {
   "cell_type": "markdown",
   "id": "43ead75d",
   "metadata": {},
   "source": [
    "### Последовательность чисел 3 🌶️\n",
    "Даны два целых числа m и n (m>n). Напишите программу, которая выводит все нечётные целые числа от m до n (включительно) в порядке убывания."
   ]
  },
  {
   "cell_type": "code",
   "execution_count": 33,
   "id": "f74cc6e4",
   "metadata": {},
   "outputs": [
    {
     "name": "stdout",
     "output_type": "stream",
     "text": [
      "5\n",
      "3\n",
      "1\n"
     ]
    },
    {
     "data": {
      "text/plain": [
       "[None]"
      ]
     },
     "execution_count": 33,
     "metadata": {},
     "output_type": "execute_result"
    }
   ],
   "source": [
    "[print(*(range(m - (m + 1) % 2, n - 1, -2)), sep='\\n') for m, n in [[int(input()), int(input())]]]"
   ]
  },
  {
   "cell_type": "code",
   "execution_count": null,
   "id": "b55fafe8",
   "metadata": {},
   "outputs": [
    {
     "name": "stdout",
     "output_type": "stream",
     "text": [
      "-5\n",
      "-7\n",
      "-9\n"
     ]
    }
   ],
   "source": [
    "# Из комментов - вместо m - (m + 1) % 2 можно использовать m - 1 + m % 2, по сути одно и то же\n",
    "m, n = int(input()), int(input())\n",
    "for i in range(m - 1 + m % 2, n - 1, -2):\n",
    "    print(i)"
   ]
  },
  {
   "cell_type": "markdown",
   "id": "76d646b6",
   "metadata": {},
   "source": [
    "### Последовательность чисел 4\n",
    "Даны два натуральных числа m и n (m≤n). Напишите программу, которая выводит все целые числа от m до n (включительно), удовлетворяющие хотя бы одному из условий:\n",
    "\n",
    "- число кратно 17\n",
    "- число оканчивается на 9\n",
    "- число кратно 3 и 5 одновременно"
   ]
  },
  {
   "cell_type": "code",
   "execution_count": null,
   "id": "6339a080",
   "metadata": {},
   "outputs": [
    {
     "name": "stdout",
     "output_type": "stream",
     "text": [
      "9\n"
     ]
    },
    {
     "data": {
      "text/plain": [
       "[[None]]"
      ]
     },
     "execution_count": 48,
     "metadata": {},
     "output_type": "execute_result"
    }
   ],
   "source": [
    "[[print(i) for i in range(m, n+1) if i % 17 == 0 or i % 10 == 9 or i % 15 == 0] for m, n in [[int(input()), int(input())]]]"
   ]
  },
  {
   "cell_type": "markdown",
   "id": "99a26cd8",
   "metadata": {},
   "source": [
    "### Таблица умножения\n",
    "Дано натуральное число n. Напишите программу, которая выводит таблицу умножения на n (от 1 до 10 включительно)."
   ]
  },
  {
   "cell_type": "code",
   "execution_count": 51,
   "id": "722d6621",
   "metadata": {},
   "outputs": [
    {
     "name": "stdout",
     "output_type": "stream",
     "text": [
      "4 x 1 = 4\n",
      "4 x 2 = 8\n",
      "4 x 3 = 12\n",
      "4 x 4 = 16\n",
      "4 x 5 = 20\n",
      "4 x 6 = 24\n",
      "4 x 7 = 28\n",
      "4 x 8 = 32\n",
      "4 x 9 = 36\n",
      "4 x 10 = 40\n"
     ]
    },
    {
     "data": {
      "text/plain": [
       "[[None, None, None, None, None, None, None, None, None, None]]"
      ]
     },
     "execution_count": 51,
     "metadata": {},
     "output_type": "execute_result"
    }
   ],
   "source": [
    "[[print(f'{n} x {i + 1} = {n * (i + 1)}') for i in range(10)] for n in [int(input())]]"
   ]
  },
  {
   "cell_type": "markdown",
   "id": "071e3ec6",
   "metadata": {},
   "source": [
    "### Количество чисел\n",
    "На вход программе подаются два целых числа a и b (a≤b). Напишите программу, которая подсчитывает количество чисел в диапазоне от a до b (включительно), куб которых оканчивается на 4 или 9."
   ]
  },
  {
   "cell_type": "code",
   "execution_count": null,
   "id": "ce11a774",
   "metadata": {},
   "outputs": [
    {
     "name": "stdout",
     "output_type": "stream",
     "text": [
      "13\n"
     ]
    }
   ],
   "source": [
    "a, b = int(input()), int(input())\n",
    "col = 0\n",
    "\n",
    "for i in range(a, b+1):\n",
    "    if i**3 % 10 == 4 or i**3 % 10 == 9:\n",
    "        col += 1\n",
    "\n",
    "print(col)"
   ]
  },
  {
   "cell_type": "markdown",
   "id": "b1b34db4",
   "metadata": {},
   "source": [
    "### Сумма чисел\n",
    "На вход программе подаются натуральное число n, а затем n целых чисел, каждое на отдельной строке. Напишите программу, которая подсчитывает сумму введённых чисел (не включая само число n). "
   ]
  },
  {
   "cell_type": "code",
   "execution_count": null,
   "id": "570cd495",
   "metadata": {},
   "outputs": [],
   "source": [
    "n = int(input())\n",
    "sum = 0\n",
    "\n",
    "for _ in range(n):\n",
    "    sum += int(input())\n",
    "\n",
    "print(sum)    "
   ]
  },
  {
   "cell_type": "code",
   "execution_count": null,
   "id": "4c7e4ffc",
   "metadata": {},
   "outputs": [],
   "source": [
    "[print(sum(int(input()) for _ in range(n))) for n in [int(input())]]"
   ]
  },
  {
   "cell_type": "code",
   "execution_count": null,
   "id": "c0391164",
   "metadata": {},
   "outputs": [],
   "source": [
    "print(sum(int(input()) for _ in range(int(input()))))"
   ]
  },
  {
   "cell_type": "markdown",
   "id": "453edf34",
   "metadata": {},
   "source": [
    "### Асимптотическое приближение 📉\n",
    "На вход программе подаётся натуральное число n. Напишите программу, которая вычисляет значение выражения\n",
    "`(1 + 1/2 ​+ 1/3 ​+ … + 1/n​) − ln(n)`"
   ]
  },
  {
   "cell_type": "code",
   "execution_count": 1,
   "id": "ada46c53",
   "metadata": {},
   "outputs": [
    {
     "name": "stdout",
     "output_type": "stream",
     "text": [
      "0.6263831609742079\n"
     ]
    }
   ],
   "source": [
    "from math import log\n",
    "n = int(input())\n",
    "ass = 0\n",
    "\n",
    "for i in range(n):\n",
    "    ass += 1/(i + 1)\n",
    "\n",
    "ass -= log(n)\n",
    "print(ass)"
   ]
  },
  {
   "cell_type": "markdown",
   "id": "568bbfae",
   "metadata": {},
   "source": [
    "### Сумма чисел 2 \n",
    "На вход программе подаётся натуральное число n. Напишите программу, которая подсчитывает сумму тех чисел от 1 до n (включительно), квадрат которых оканчивается на 2, 5 или 8."
   ]
  },
  {
   "cell_type": "code",
   "execution_count": 3,
   "id": "8ce9f480",
   "metadata": {},
   "outputs": [
    {
     "name": "stdout",
     "output_type": "stream",
     "text": [
      "500\n"
     ]
    }
   ],
   "source": [
    "print(sum(i for i in range(int(input())) if i**2 % 10 == 2 or i**2 % 10 == 5 or i**2 % 10 == 8))"
   ]
  },
  {
   "cell_type": "markdown",
   "id": "dce8aad9",
   "metadata": {},
   "source": [
    "> Из решений вот такое интересное решение. Я не очень понимаю эту формулу, нужно разобраться\n",
    "\n",
    "Решение в одну строчку без for и if!\n",
    "\n",
    "Для осознания того, что тут происходит, нужно вспомнить/узнать три факта:\n",
    "\n",
    "1) Не существует полных квадратов, которые оканчиваются на 2 или 8\n",
    "2) Сумма первых k нечетных чисел есть k**2\n",
    "3) ceil(a/b) = floor((a+b-1)/b)\n",
    "\n",
    "И так. Получается, что нам нужно найти только сумму чисел, квадрат которых равен пяти. Разумеется, это все такие числа, которые сами заканчиваются на пять: 5, 15, 25 ...\n",
    "\n",
    "То есть, нам нужно посчитать сумму 5 + 15 + 25 ... 5 + 10*x (5 + 10*x <= n)\n",
    "\n",
    "= 5 * (1 + 3 + 5 + 7 + ... ) = 5 * (1 + 3 + 5 + 7 + ... + ceil((n-4) / 10)) = 5 * (1 + 3 + 5 + 7 ... + floor((n+5) / 10)) = 5 * (1 + 3 + 5 + 7 ... + (n+5)//10) =\n",
    "5 * ((n+5)//10)**2\n",
    "\n",
    "Должен появится логичный вопрос: откуда мы взяли ceil((n-4) / 10)? Все очень просто: каждые десять чисел, начиная с пятерки, будет встречаться число, оканчивающееся на 5, отсюда и эта формула. "
   ]
  },
  {
   "cell_type": "code",
   "execution_count": null,
   "id": "390a3372",
   "metadata": {},
   "outputs": [],
   "source": [
    "print(5 * ((int(input())+5) // 10)**2) "
   ]
  },
  {
   "cell_type": "markdown",
   "id": "29efcacb",
   "metadata": {},
   "source": [
    "### Без нулей 0️\n",
    "Напишите программу, которая считывает 10 чисел и выводит произведение отличных от нуля чисел."
   ]
  },
  {
   "cell_type": "code",
   "execution_count": null,
   "id": "d19f02bb",
   "metadata": {},
   "outputs": [],
   "source": [
    "mult = 1\n",
    "for _ in range(10):\n",
    "    n = int(input())\n",
    "    if n != 0:\n",
    "        mult *= n\n",
    "\n",
    "print(mult)"
   ]
  },
  {
   "cell_type": "code",
   "execution_count": null,
   "id": "fade99e0",
   "metadata": {},
   "outputs": [],
   "source": [
    "# Из комментов - вот так можно в одну строку сделать умножение. Либо еще можно с помощью reduce из itertools, но там посложнее будет\n",
    "print(__import__(\"numpy\").prod([i for i in [int(input()) for __ in range(10)] if i > 0]))"
   ]
  },
  {
   "cell_type": "markdown",
   "id": "5c4e2285",
   "metadata": {},
   "source": [
    "### Сумма делителей\n",
    "На вход программе подаётся натуральное число n. Напишите программу, которая вычисляет сумму всех его делителей."
   ]
  },
  {
   "cell_type": "code",
   "execution_count": 39,
   "id": "456cf9cc",
   "metadata": {},
   "outputs": [
    {
     "name": "stdout",
     "output_type": "stream",
     "text": [
      "217\n"
     ]
    }
   ],
   "source": [
    "# В лоб\n",
    "n = int(input())\n",
    "sm = 0\n",
    "\n",
    "for i in range(1, n + 1):\n",
    "    if n % i == 0:\n",
    "        sm += i\n",
    "\n",
    "print(sm)"
   ]
  },
  {
   "cell_type": "code",
   "execution_count": 38,
   "id": "6f0d7cc4",
   "metadata": {},
   "outputs": [
    {
     "name": "stdout",
     "output_type": "stream",
     "text": [
      "217\n"
     ]
    }
   ],
   "source": [
    "# Можно проходить циклом не до n, а до n/2 ...\n",
    "n = int(input())\n",
    "sm = n\n",
    "\n",
    "for i in range(1, int(n/2) + 1):\n",
    "    if n % i == 0:\n",
    "        sm += i\n",
    "\n",
    "print(sm)"
   ]
  },
  {
   "cell_type": "code",
   "execution_count": 42,
   "id": "bf67e387",
   "metadata": {},
   "outputs": [
    {
     "name": "stdout",
     "output_type": "stream",
     "text": [
      "217\n"
     ]
    }
   ],
   "source": [
    "# ... или даже sqrt(n)\n",
    "n = int(input())\n",
    "sq = int(n**0.5)\n",
    "sm = 0\n",
    "\n",
    "for i in range(1, sq + 1):\n",
    "    if n % i == 0:\n",
    "        sm += i\n",
    "        sm += n // i\n",
    "\n",
    "if n / sq == sq:\n",
    "    sm -= sq\n",
    "\n",
    "print(sm)"
   ]
  },
  {
   "cell_type": "code",
   "execution_count": null,
   "id": "67e9490a",
   "metadata": {},
   "outputs": [
    {
     "name": "stdout",
     "output_type": "stream",
     "text": [
      "217\n"
     ]
    },
    {
     "data": {
      "text/plain": [
       "[None]"
      ]
     },
     "execution_count": 40,
     "metadata": {},
     "output_type": "execute_result"
    }
   ],
   "source": [
    "# Ну и однострочник\n",
    "[print(sum(i for i in range(1, n + 1) if n % i == 0)) for n in [int(input())]]"
   ]
  },
  {
   "cell_type": "markdown",
   "id": "7dd8145f",
   "metadata": {},
   "source": [
    "### Знакочередующаяся сумма\n",
    "На вход программе подаётся натуральное число n. Напишите программу вычисления знакочередующейся суммы: 1 − 2 + 3 − 4 + 5 − 6 + … + (−1)^(n+1)⋅n"
   ]
  },
  {
   "cell_type": "code",
   "execution_count": 46,
   "id": "c89cf005",
   "metadata": {},
   "outputs": [
    {
     "name": "stdout",
     "output_type": "stream",
     "text": [
      "4\n"
     ]
    }
   ],
   "source": [
    "n = int(input())\n",
    "\n",
    "if n % 2 == 0:\n",
    "    print(-(n//2))\n",
    "else:\n",
    "    print(-(n//2) + n)"
   ]
  },
  {
   "cell_type": "code",
   "execution_count": null,
   "id": "44e5d9cf",
   "metadata": {},
   "outputs": [
    {
     "name": "stdout",
     "output_type": "stream",
     "text": [
      "-3\n"
     ]
    },
    {
     "data": {
      "text/plain": [
       "[None]"
      ]
     },
     "execution_count": 54,
     "metadata": {},
     "output_type": "execute_result"
    }
   ],
   "source": [
    "# С использованием умножения на 0 или 1:\n",
    "# если n - четное (n % 2 дает 0), то n умножается на 0 и не прибавляется, \n",
    "# а если n нечетное (n % 2 дает 1), то n умножается на 1 и добавляется к результату)\n",
    "[print(-(n//2) + n * (n % 2)) for n in [int(input())]]"
   ]
  },
  {
   "cell_type": "code",
   "execution_count": null,
   "id": "0b22ebb5",
   "metadata": {},
   "outputs": [],
   "source": [
    "# То же, но с лямбдой\n",
    "print((lambda n: -(n//2) + n * (n % 2))(int(input())))"
   ]
  },
  {
   "cell_type": "markdown",
   "id": "8f181ed9",
   "metadata": {},
   "source": [
    "### Наибольшие числа 🌶️🌶️\n",
    "На вход программе подаются натуральное число n (n≥2), а затем n различных натуральных чисел последовательности, каждое на отдельной строке. Напишите программу, которая выводит наибольшее и второе наибольшее число последовательности."
   ]
  },
  {
   "cell_type": "code",
   "execution_count": 8,
   "id": "878ce5ce",
   "metadata": {},
   "outputs": [
    {
     "name": "stdout",
     "output_type": "stream",
     "text": [
      "7\n",
      "5\n"
     ]
    }
   ],
   "source": [
    "n = int(input())\n",
    "max1 = max2 = 0\n",
    "\n",
    "for i in range(n):\n",
    "    a = int(input())\n",
    "    if a >= max1:\n",
    "        max2 = max1\n",
    "        max1 = a\n",
    "    elif a >= max2:\n",
    "        max2 = a\n",
    "\n",
    "print(max1)\n",
    "print(max2)"
   ]
  },
  {
   "cell_type": "code",
   "execution_count": 9,
   "id": "84a7e300",
   "metadata": {},
   "outputs": [
    {
     "name": "stdout",
     "output_type": "stream",
     "text": [
      "5\n",
      "4\n"
     ]
    },
    {
     "data": {
      "text/plain": [
       "[None]"
      ]
     },
     "execution_count": 9,
     "metadata": {},
     "output_type": "execute_result"
    }
   ],
   "source": [
    "# Чтобы вывести сначала max1, а потом max2, делаем срез [:-3:-1]. Для max2 max1 - срез [-2:]\n",
    "[print(*(sorted((int(input())) for _ in range(n))[:-3:-1]), sep='\\n') for n in [int(input())]]"
   ]
  },
  {
   "cell_type": "markdown",
   "id": "72716920",
   "metadata": {},
   "source": [
    "### Only even numbers 🌶️\n",
    "Напишите программу, которая считывает последовательность из 10 целых чисел и определяет, является ли каждое из них чётным или нет.\n",
    "\n",
    "Формат входных данных  \n",
    "На вход программе подаются 10 целых чисел, каждое на отдельной строке.\n",
    "\n",
    "Формат выходных данных  \n",
    "Программа должна вывести текст «YES» (без кавычек), если все числа чётные, или «NO» (без кавычек) в противном случае."
   ]
  },
  {
   "cell_type": "code",
   "execution_count": 13,
   "id": "3870bfd9",
   "metadata": {},
   "outputs": [
    {
     "name": "stdout",
     "output_type": "stream",
     "text": [
      "NO\n"
     ]
    }
   ],
   "source": [
    "print('YES' if sum(i % 2 for i in [int(input()) for _ in range(10)]) == 0 else 'NO')"
   ]
  },
  {
   "cell_type": "markdown",
   "id": "87d02182",
   "metadata": {},
   "source": [
    "### Последовательность Фибоначчи 🌶️\n",
    "Напишите программу, которая считывает натуральное число n и выводит первые n чисел последовательности Фибоначчи.\n",
    "\n",
    "Формат входных данных  \n",
    "На вход программе подается одно число n (n ≤ 100) – количество членов последовательности.\n",
    "\n",
    "Формат выходных данных  \n",
    "Программа должна вывести члены последовательности Фибоначчи, отделенные символом пробела.\n",
    "\n",
    "Примечание. Последовательность Фибоначчи – это последовательность натуральных чисел, где каждое последующее число является суммой двух предыдущих: `1, 1, 2, 3, 5, 8, 13, 21, 34, 55, 89, …`"
   ]
  },
  {
   "cell_type": "code",
   "execution_count": 30,
   "id": "454f4c75",
   "metadata": {},
   "outputs": [
    {
     "name": "stdout",
     "output_type": "stream",
     "text": [
      "1 1 2 "
     ]
    }
   ],
   "source": [
    "n = int(input())\n",
    "a = 0\n",
    "b = 1\n",
    "\n",
    "for _ in range(n):\n",
    "    print(b, end=' ')    \n",
    "    a, b = b, a + b"
   ]
  }
 ],
 "metadata": {
  "kernelspec": {
   "display_name": "Python 3",
   "language": "python",
   "name": "python3"
  },
  "language_info": {
   "codemirror_mode": {
    "name": "ipython",
    "version": 3
   },
   "file_extension": ".py",
   "mimetype": "text/x-python",
   "name": "python",
   "nbconvert_exporter": "python",
   "pygments_lexer": "ipython3",
   "version": "3.11.0"
  }
 },
 "nbformat": 4,
 "nbformat_minor": 5
}
