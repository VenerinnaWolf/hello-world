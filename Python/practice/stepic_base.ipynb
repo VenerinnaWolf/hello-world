{
 "cells": [
  {
   "cell_type": "markdown",
   "id": "86748732",
   "metadata": {},
   "source": [
    "Напишите программу вывода на экран трёх последовательно идущих чисел, каждое на отдельной строке. Первое число вводит пользователь, остальные числа вы должны сами вычислять в программе."
   ]
  },
  {
   "cell_type": "code",
   "execution_count": null,
   "id": "75283304",
   "metadata": {},
   "outputs": [],
   "source": [
    "print(a := int(input()), a+1, a+2, sep='\\n')  # решение для Python 3.8 и выше\n",
    "[print(i, i+1, i+2, sep='\\n') for i in [int(input())]]\n",
    "print(*[[i, i+1, i+2] for i in [int(input())]][0], sep='\\n')\n",
    "(lambda i: print(i, i+1, i+2, sep='\\n'))(int(input()))"
   ]
  },
  {
   "cell_type": "markdown",
   "id": "ec14b3a8",
   "metadata": {},
   "source": [
    "# Условный оператор if"
   ]
  },
  {
   "cell_type": "markdown",
   "id": "b0471367",
   "metadata": {},
   "source": [
    "Напишите программу, которая проверяет, что для заданного четырехзначного числа выполняется следующее соотношение: сумма первой и последней цифр равна разности второй и третьей цифр."
   ]
  },
  {
   "cell_type": "code",
   "execution_count": 1,
   "id": "aad5b3f0",
   "metadata": {},
   "outputs": [
    {
     "name": "stdout",
     "output_type": "stream",
     "text": [
      "НЕТ\n"
     ]
    },
    {
     "data": {
      "text/plain": [
       "[None]"
      ]
     },
     "execution_count": 1,
     "metadata": {},
     "output_type": "execute_result"
    }
   ],
   "source": [
    "[print('ДА' if int(a[0]) + int(a[3]) == int(a[1]) - int(a[2]) else 'НЕТ') for a in [input()]]"
   ]
  },
  {
   "cell_type": "code",
   "execution_count": 6,
   "id": "16e73503",
   "metadata": {},
   "outputs": [
    {
     "name": "stdout",
     "output_type": "stream",
     "text": [
      "ДА\n"
     ]
    },
    {
     "data": {
      "text/plain": [
       "[None]"
      ]
     },
     "execution_count": 6,
     "metadata": {},
     "output_type": "execute_result"
    }
   ],
   "source": [
    "[print('ДА' if a[0] + a[3] == a[1] - a[2] else 'НЕТ') for a in [list(map(int, input()))]]"
   ]
  },
  {
   "cell_type": "markdown",
   "id": "bda2bedc",
   "metadata": {},
   "source": [
    "Напишите программу, которая определяет, являются ли три заданных числа (в указанном порядке) последовательными членами арифметической прогрессии."
   ]
  },
  {
   "cell_type": "code",
   "execution_count": null,
   "id": "3b1dc08e",
   "metadata": {},
   "outputs": [],
   "source": [
    "[print('YES' if b - a == c - b else 'NO') for a, b, c in [[int(input()) for _ in range(3)]]]"
   ]
  },
  {
   "cell_type": "code",
   "execution_count": null,
   "id": "748ad57e",
   "metadata": {},
   "outputs": [],
   "source": [
    "(lambda a, b, c: print('YES' if b - a == c - b else 'NO'))(*(int(input()) for _ in range(3)))"
   ]
  },
  {
   "cell_type": "markdown",
   "id": "4037c856",
   "metadata": {},
   "source": [
    "Назовём число красивым, если оно является четырёхзначным и делится нацело на 7 или на 17.\n",
    "Напишите программу, определяющую, является ли введённое число красивым.  \n",
    "Программа должна вывести «YES» (без кавычек), если число является красивым, или «NO» (без кавычек) в противном случае."
   ]
  },
  {
   "cell_type": "code",
   "execution_count": null,
   "id": "3b063a74",
   "metadata": {},
   "outputs": [],
   "source": [
    "[print('YES' if len(a) == 4 and (int(a) % 7 == 0 or int(a) % 17 == 0) else 'NO') for a in [input()]]"
   ]
  },
  {
   "cell_type": "code",
   "execution_count": 17,
   "id": "a1a6475f",
   "metadata": {},
   "outputs": [
    {
     "name": "stdout",
     "output_type": "stream",
     "text": [
      "старость\n"
     ]
    }
   ],
   "source": [
    "ages = {13: 'детство', \n",
    "       24: 'молодость',\n",
    "       59: 'зрелость',\n",
    "       100000: 'старость'}\n",
    "\n",
    "age = int(input())\n",
    "\n",
    "for key, val in ages.items():\n",
    "    if age <= key:\n",
    "        print(val)\n",
    "        break"
   ]
  },
  {
   "cell_type": "markdown",
   "id": "ccef0b36",
   "metadata": {},
   "source": [
    "Напишите программу, которая считывает три числа и подсчитывает сумму только положительных чисел.  \n",
    "> Это решение мне прям понравилось"
   ]
  },
  {
   "cell_type": "code",
   "execution_count": 18,
   "id": "c4e8be08",
   "metadata": {},
   "outputs": [
    {
     "name": "stdout",
     "output_type": "stream",
     "text": [
      "3\n"
     ]
    }
   ],
   "source": [
    "print(sum(max(int(input()), 0) for _ in range(3)))"
   ]
  },
  {
   "cell_type": "code",
   "execution_count": 19,
   "id": "811fdc5b",
   "metadata": {},
   "outputs": [
    {
     "name": "stdout",
     "output_type": "stream",
     "text": [
      "Принадлежит\n"
     ]
    }
   ],
   "source": [
    "print('Принадлежит' if -30 < (a := int(input())) <= 2 or 7 < a <= 25 else 'Не принадлежит')"
   ]
  },
  {
   "cell_type": "code",
   "execution_count": 1,
   "id": "5dc8b2e3",
   "metadata": {},
   "outputs": [
    {
     "name": "stdout",
     "output_type": "stream",
     "text": [
      "253\n"
     ]
    }
   ],
   "source": [
    "a, b, op = [input() for _ in range(3)]\n",
    "\n",
    "try:\n",
    "    print(eval(a + op + b))\n",
    "except ZeroDivisionError:\n",
    "    print('На ноль делить нельзя!')\n",
    "except ValueError:\n",
    "    print('Неверная операция')"
   ]
  },
  {
   "cell_type": "markdown",
   "id": "0c5d0d98",
   "metadata": {},
   "source": [
    "Красный, синий и желтый называются основными цветами, потому что их нельзя получить путем смешения других цветов. При смешивании двух основных цветов получается вторичный цвет:\n",
    "- если смешать красный и синий, то получится фиолетовый;\n",
    "- если смешать красный и желтый, то получится оранжевый;\n",
    "- если смешать синий и желтый, то получится зеленый.  \n",
    "\n",
    "\n",
    "Напишите программу, которая считывает названия двух основных цветов для смешивания. Если пользователь вводит что-нибудь помимо названий «красный», «синий» или «желтый», то программа должна вывести сообщение об ошибке. В противном случае программа должна вывести название вторичного цвета, который получится в результате.\n",
    "\n",
    "Формат входных данных:  \n",
    "На вход программе подаются две строки, каждая на отдельной строке.\n",
    "\n",
    "Формат выходных данных:  \n",
    "Программа должна вывести полученный цвет смешения либо сообщение «ошибка цвета» (без кавычек), если введён был не цвет.\n",
    "\n",
    "Примечание 1. Если смешать красный и красный, то получится красный и т.д."
   ]
  },
  {
   "cell_type": "code",
   "execution_count": null,
   "id": "b95d9a23",
   "metadata": {},
   "outputs": [],
   "source": [
    "color1, color2 = input(), input()\n",
    "\n",
    "if color1 == 'красный':\n",
    "    if color2 == 'красный':\n",
    "        print('красный')\n",
    "    elif color2 == 'синий':\n",
    "        print('фиолетовый')\n",
    "    elif color2 == 'желтый':\n",
    "        print('оранжевый')\n",
    "    else:\n",
    "        print('ошибка цвета')\n",
    "elif color1 == 'синий':\n",
    "    if color2 == 'красный':\n",
    "        print('фиолетовый')\n",
    "    elif color2 == 'синий':\n",
    "        print('синий')\n",
    "    elif color2 == 'желтый':\n",
    "        print('зеленый')\n",
    "    else:\n",
    "        print('ошибка цвета')\n",
    "elif color1 == 'желтый':\n",
    "    if color2 == 'красный':\n",
    "        print('оранжевый')\n",
    "    elif color2 == 'синий':\n",
    "        print('зеленый')\n",
    "    elif color2 == 'желтый':\n",
    "        print('желтый')\n",
    "    else:\n",
    "        print('ошибка цвета')\n",
    "else:\n",
    "    print('ошибка цвета')   "
   ]
  },
  {
   "cell_type": "code",
   "execution_count": null,
   "id": "f7963896",
   "metadata": {},
   "outputs": [],
   "source": [
    "color1, color2 = input(), input()\n",
    "\n",
    "if color1 in ('красный', 'желтый', 'синий') and color2 in ('красный', 'желтый', 'синий'):\n",
    "    if color1 == color2:\n",
    "        print(color1)\n",
    "    elif color1 == 'красный' and color2 == 'синий' or color2 == 'красный' and color1 == 'синий':\n",
    "        print('фиолетовый')\n",
    "    elif color1 == 'красный' and color2 == 'желтый' or color2 == 'красный' and color1 == 'желтый':\n",
    "        print('оранжевый')\n",
    "    elif color1 == 'синий' and color2 == 'желтый' or color2 == 'синий' and color1 == 'желтый':\n",
    "        print('зеленый')\n",
    "else:\n",
    "    print('ошибка цвета')   "
   ]
  },
  {
   "cell_type": "markdown",
   "id": "39e0e16e",
   "metadata": {},
   "source": [
    "На колесе рулетки карманы пронумерованы от 0 до 36. Ниже приведены цвета карманов: \n",
    "\n",
    "- карман 0 – зеленый;\n",
    "- для карманов с 1 по 10 карманы с нечётным номером имеют красный цвет, карманы с чётным номером – черный;\n",
    "- для карманов с 11 по 18 карманы с нечётным номером имеют черный цвет, карманы с чётным номером – красный;\n",
    "- для карманов с 19 по 28 карманы с нечётным номером имеют красный цвет, карманы с чётным номером – черный;\n",
    "- для карманов с 29 по 36 карманы с нечётным номером имеют черный цвет, карманы с чётным номером – красный.\n",
    "\n",
    "Напишите программу, которая считывает номер кармана и показывает, является ли этот карман зеленым, красным или черным. Программа должна вывести сообщение об ошибке, если пользователь вводит число, которое лежит вне диапазона от 0 до 36.\n",
    "\n",
    "Формат входных данных  \n",
    "На вход программе подаётся одно целое число.\n",
    "\n",
    "Формат выходных данных  \n",
    "Программа должна вывести цвет кармана либо сообщение «ошибка ввода» (без кавычек), если введённое число лежит вне диапазона от 0 до 36."
   ]
  },
  {
   "cell_type": "code",
   "execution_count": 6,
   "id": "6a7e9e7d",
   "metadata": {},
   "outputs": [
    {
     "name": "stdout",
     "output_type": "stream",
     "text": [
      "ошибка ввода\n"
     ]
    }
   ],
   "source": [
    "a = int(input())\n",
    "\n",
    "if a < 0 or a > 36:\n",
    "    print('ошибка ввода')\n",
    "elif a == 0:\n",
    "    print('зеленый')\n",
    "elif ((1 <= a <= 10 or 19 <= a <= 28) and a % 2 == 0) or ((11 <= a <= 18 or 29 <= a <= 36) and a % 2 == 1):\n",
    "    print('черный')\n",
    "else:\n",
    "    print('красный')"
   ]
  },
  {
   "cell_type": "markdown",
   "id": "d191b585",
   "metadata": {},
   "source": [
    "На числовой прямой даны два отрезка: [a1, b1] и [a2, b2]. Напишите программу, которая находит их пересечение.\n",
    "\n",
    "Пересечением двух отрезков может быть:\n",
    "- отрезок\n",
    "- точка\n",
    "- пустое множество  \n",
    "\n",
    "Формат входных данных  \n",
    "На вход программе подаются четыре целых числа a1, b1, a2, b2. Гарантируется, что a1 < b1, a2 < b2\n",
    "\n",
    "Формат выходных данных  \n",
    "Программа должна вывести на экран границы отрезка, являющегося пересечением, либо общую точку, либо текст «пустое множество» (без кавычек)."
   ]
  },
  {
   "cell_type": "code",
   "execution_count": null,
   "id": "d6c79ac3",
   "metadata": {},
   "outputs": [],
   "source": [
    "a1, b1, a2, b2 = [int(input()) for _ in range(4)]\n",
    "\n",
    "if a2 < a1:\n",
    "    a1, b1, a2, b2 = a2, b2, a1, b1\n",
    "\n",
    "if b1 < a2:\n",
    "    print('пустое множество')\n",
    "elif b1 == a2:\n",
    "    print(b1)\n",
    "elif b1 < b2:\n",
    "    print(a2, b1)\n",
    "else:\n",
    "    print(a2, b2)\n"
   ]
  },
  {
   "cell_type": "markdown",
   "id": "88bd3c62",
   "metadata": {},
   "source": [
    "## Экзамен"
   ]
  },
  {
   "cell_type": "markdown",
   "id": "a7774d0b",
   "metadata": {},
   "source": [
    "Напишите программу, которая определяет, оканчивается ли год с данным номером на два нуля. Если год оканчивается, то выведите «YES» (без кавычек), иначе выведите «NO» (без кавычек)."
   ]
  },
  {
   "cell_type": "code",
   "execution_count": 6,
   "id": "0213ac22",
   "metadata": {},
   "outputs": [
    {
     "name": "stdout",
     "output_type": "stream",
     "text": [
      "YES\n"
     ]
    }
   ],
   "source": [
    "print('YES' if input()[-2:] == '00' else 'NO')"
   ]
  },
  {
   "cell_type": "markdown",
   "id": "f1d1b074",
   "metadata": {},
   "source": [
    "### Шахматная доска\n",
    "Заданы две клетки шахматной доски. Напишите программу, которая определяет, имеют ли указанные клетки один цвет или нет. Если они покрашены в один цвет, то выведите слово «YES» (без кавычек), а если в разные цвета, то «NO» (без кавычек)."
   ]
  },
  {
   "cell_type": "code",
   "execution_count": null,
   "id": "6dc11892",
   "metadata": {},
   "outputs": [],
   "source": [
    "print('YES' if sum([int(input()) for _ in range(4)]) % 2 == 0 else 'NO')"
   ]
  },
  {
   "cell_type": "markdown",
   "id": "d38758ac",
   "metadata": {},
   "source": [
    "### Римские цифры\n",
    "Напишите программу, которая считывает целое число и выводит соответствующую ему римскую цифру. Если число находится вне диапазона [1; 10], то программа должна вывести текст «ошибка» (без кавычек)."
   ]
  },
  {
   "cell_type": "code",
   "execution_count": 12,
   "id": "af8b6495",
   "metadata": {},
   "outputs": [
    {
     "name": "stdout",
     "output_type": "stream",
     "text": [
      "ошибка\n"
     ]
    }
   ],
   "source": [
    "roman = ['I', 'II', 'III', 'IV', 'V', 'VI', 'VII', 'VIII', 'IX', 'X']\n",
    "print('ошибка' if not 1 <= (i := int(input())) <= 10 else roman[i - 1])"
   ]
  },
  {
   "cell_type": "markdown",
   "id": "dd5308e7",
   "metadata": {},
   "source": [
    "### Ход слона \n",
    "Даны две различные клетки шахматной доски. Напишите программу, которая определяет, может ли слон попасть с первой клетки на вторую одним ходом. Программа получает на вход четыре числа от 1 до 8 каждое, задающие номер столбца и номер строки сначала для первой клетки, потом для второй клетки. Программа должна вывести «YES», если из первой клетки ходом слона можно попасть во вторую, или «NO» в противном случае."
   ]
  },
  {
   "cell_type": "code",
   "execution_count": null,
   "id": "69a376df",
   "metadata": {},
   "outputs": [],
   "source": [
    "[print('YES' if abs(a - c) == abs(b - d) else 'NO') for a, b, c, d in [[int(input()) for _ in range(4)]]]"
   ]
  },
  {
   "cell_type": "markdown",
   "id": "67a35544",
   "metadata": {},
   "source": [
    "### Ход коня\n",
    "Даны две различные клетки шахматной доски. Напишите программу, которая определяет, может ли конь попасть с первой клетки на вторую одним ходом. Программа получает на вход четыре числа от 1 до 8 каждое, задающие номер столбца и номер строки сначала для первой клетки, потом для второй клетки. Программа должна вывести «YES», если из первой клетки ходом коня можно попасть во вторую, или «NO» в противном случае."
   ]
  },
  {
   "cell_type": "code",
   "execution_count": null,
   "id": "6ba542e7",
   "metadata": {},
   "outputs": [],
   "source": [
    "[print('YES' if (abs(a - c) == 1 and abs(b - d) == 2) or (abs(a - c) == 2 and abs(b - d) == 1) else 'NO') for a, b, c, d in [[int(input()) for _ in range(4)]]]"
   ]
  },
  {
   "cell_type": "markdown",
   "id": "bb6cfb93",
   "metadata": {},
   "source": [
    "### Ход ферзя\n",
    "Даны две различные клетки шахматной доски. Напишите программу, которая определяет, может ли ферзь попасть с первой клетки на вторую одним ходом. Программа получает на вход четыре числа от 1 до 8 каждое, задающие номер столбца и номер строки сначала для первой клетки, потом для второй клетки. Программа должна вывести «YES», если из первой клетки ходом ферзя можно попасть во вторую, или «NO» в противном случае."
   ]
  },
  {
   "cell_type": "code",
   "execution_count": null,
   "id": "99bd1d44",
   "metadata": {},
   "outputs": [],
   "source": [
    "[print('YES' if abs(a - c) == abs(b - d) or a == c or b == d else 'NO') for a, b, c, d in [[int(input()) for _ in range(4)]]]"
   ]
  },
  {
   "cell_type": "markdown",
   "id": "2b61a255",
   "metadata": {},
   "source": [
    "# Типы данных"
   ]
  },
  {
   "cell_type": "markdown",
   "id": "2f9498e8",
   "metadata": {},
   "source": [
    "### Площадь треугольника 📐\n",
    "Напишите программу, которая считывает длины двух катетов в прямоугольном треугольнике и выводит его площадь."
   ]
  },
  {
   "cell_type": "code",
   "execution_count": null,
   "id": "930f81be",
   "metadata": {},
   "outputs": [],
   "source": [
    "print(float(input()) * float(input()) / 2)"
   ]
  },
  {
   "cell_type": "markdown",
   "id": "2583ff9f",
   "metadata": {},
   "source": [
    "### Две старушки 👵\n",
    "Две старушки идут навстречу друг другу с постоянными скоростями V1 и V2 км/ч. Определите, через какое время (в часах) старушки встретятся, если расстояние между ними равно S км."
   ]
  },
  {
   "cell_type": "code",
   "execution_count": null,
   "id": "a1c30a63",
   "metadata": {},
   "outputs": [],
   "source": [
    "print(float(input()) / (float(input()) + float(input())))"
   ]
  },
  {
   "cell_type": "markdown",
   "id": "3787749b",
   "metadata": {},
   "source": [
    "### Интересное число 🤔\n",
    "Назовём число интересным, если в нём разность максимальной и минимальной цифры равняется средней по величине цифре. Напишите программу, которая определяет, интересное число или нет. Если число интересное, следует вывести текст «Число интересное» (без кавычек), иначе – «Число неинтересное» (без кавычек)."
   ]
  },
  {
   "cell_type": "code",
   "execution_count": null,
   "id": "0130ba3a",
   "metadata": {},
   "outputs": [],
   "source": [
    "[print('Число', 'интересное' if 2 * max(a) == sum(a) else 'неинтересное') for a in [[int(x) for x in input()]]]"
   ]
  },
  {
   "cell_type": "markdown",
   "id": "d7643c2b",
   "metadata": {},
   "source": [
    "### Три города 🏙️\n",
    "Даны названия трёх городов. Напишите программу, которая определяет самое короткое и самое длинное название города."
   ]
  },
  {
   "cell_type": "code",
   "execution_count": 7,
   "id": "98d54a97",
   "metadata": {},
   "outputs": [
    {
     "name": "stdout",
     "output_type": "stream",
     "text": [
      "sd\n",
      "gsdfasfasd\n"
     ]
    },
    {
     "data": {
      "text/plain": [
       "[None, None]"
      ]
     },
     "execution_count": 7,
     "metadata": {},
     "output_type": "execute_result"
    }
   ],
   "source": [
    "[print(a) for a in (sorted([input() for _ in range(3)], key=len)[::2])]"
   ]
  },
  {
   "cell_type": "code",
   "execution_count": 8,
   "id": "6e074416",
   "metadata": {},
   "outputs": [
    {
     "name": "stdout",
     "output_type": "stream",
     "text": [
      "as\n",
      "dasfasdfasfas\n"
     ]
    }
   ],
   "source": [
    "print(*(sorted([input() for _ in range(3)], key=len)[::2]), sep='\\n')"
   ]
  },
  {
   "cell_type": "markdown",
   "id": "62cffef3",
   "metadata": {},
   "source": [
    "### Арифметические строки 🌶️\n",
    "Вводятся 3 строки в случайном порядке. Напишите программу, которая выясняет, можно ли из длин этих строк построить арифметическую прогрессию."
   ]
  },
  {
   "cell_type": "code",
   "execution_count": 11,
   "id": "6bc24c1c",
   "metadata": {},
   "outputs": [
    {
     "name": "stdout",
     "output_type": "stream",
     "text": [
      "NO\n"
     ]
    },
    {
     "data": {
      "text/plain": [
       "[None]"
      ]
     },
     "execution_count": 11,
     "metadata": {},
     "output_type": "execute_result"
    }
   ],
   "source": [
    "[print('YES' if l[0] + l[2] == 2 * l[1] else 'NO') for l in [sorted(len(input()) for _ in range(3))]]"
   ]
  }
 ],
 "metadata": {
  "kernelspec": {
   "display_name": "Python 3",
   "language": "python",
   "name": "python3"
  },
  "language_info": {
   "codemirror_mode": {
    "name": "ipython",
    "version": 3
   },
   "file_extension": ".py",
   "mimetype": "text/x-python",
   "name": "python",
   "nbconvert_exporter": "python",
   "pygments_lexer": "ipython3",
   "version": "3.11.0"
  }
 },
 "nbformat": 4,
 "nbformat_minor": 5
}
